{
 "cells": [
  {
   "cell_type": "code",
   "execution_count": 20,
   "id": "d2830c7d-e42c-4995-ad87-dfa9cf75acbc",
   "metadata": {},
   "outputs": [
    {
     "data": {
      "text/plain": [
       "'\\n%pip install psycopg2-binary\\n%pip install sqlalchemy\\n'"
      ]
     },
     "execution_count": 20,
     "metadata": {},
     "output_type": "execute_result"
    }
   ],
   "source": [
    "'''\n",
    "%pip install psycopg2-binary\n",
    "%pip install redshift-connector sqlalchemy-redshift\n",
    "'''"
   ]
  },
  {
   "cell_type": "code",
   "execution_count": 3,
   "id": "791c9c49-1454-4e22-b585-d159b15ad734",
   "metadata": {},
   "outputs": [],
   "source": [
    "from sqlalchemy import create_engine\n",
    "import redshift_connector\n",
    "\n",
    "conn_string = f\"redshift+redshift_connector://{REDSHIFT_CONFIG['user']}:{REDSHIFT_CONFIG['password']}@{REDSHIFT_CONFIG['host']}:{REDSHIFT_CONFIG['port']}/{REDSHIFT_CONFIG['dbname']}\"\n",
    "engine = create_engine(conn_string)"
   ]
  },
  {
   "cell_type": "code",
   "execution_count": 1,
   "id": "fafa9dc4-eca3-4cd5-9234-36539febb065",
   "metadata": {},
   "outputs": [],
   "source": [
    "def write_to_redshift(df, domain):\n",
    "    conn = redshift_connector.connect(\n",
    "        host=REDSHIFT_CONFIG['host'],\n",
    "        port=REDSHIFT_CONFIG['port'],\n",
    "        database=REDSHIFT_CONFIG['dbname'],\n",
    "        user=REDSHIFT_CONFIG['user'],\n",
    "        password=REDSHIFT_CONFIG['password']\n",
    "    )\n",
    "    \n",
    "    cursor = conn.cursor()\n",
    "    try:\n",
    "        for _, row in df.iterrows():\n",
    "            cursor.execute(\"\"\"\n",
    "                INSERT INTO ga4.google_analyitcs \n",
    "                (date, campaign_id, source_medium, country, page_path, landing_page, \n",
    "                referrer, os, wbraid, gbraid, gclid, email, fbclid, aff_cd, \n",
    "                utm_medium, page_views, bounce_rate, publisher_ad_impressions, \n",
    "                publisher_ad_clicks, total_revenue, domain)\n",
    "                VALUES (%s, %s, %s, %s, %s, %s, %s, %s, %s, %s, %s, %s, %s, %s, %s, %s, %s, %s, %s, %s, %s)\n",
    "            \"\"\", tuple(row))\n",
    "        conn.commit()\n",
    "        print(f\"Successfully wrote {len(df)} rows for {domain}\")\n",
    "    except Exception as e:\n",
    "        print(f\"Error: {e}\")\n",
    "        conn.rollback()\n",
    "    finally:\n",
    "        cursor.close()\n",
    "        conn.close()"
   ]
  },
  {
   "cell_type": "code",
   "execution_count": 2,
   "id": "8b32db0d-487c-4058-b29a-fd1d1a3ed526",
   "metadata": {},
   "outputs": [
    {
     "name": "stdout",
     "output_type": "stream",
     "text": [
      "Error writing myspecialdates.com to Redshift: 'Engine' object has no attribute 'cursor'\n",
      "Processing okamour.com\n",
      "Error writing okamour.com to Redshift: 'Engine' object has no attribute 'cursor'\n",
      "Processing sakuradate.com\n",
      "Error writing sakuradate.com to Redshift: 'Engine' object has no attribute 'cursor'\n",
      "Processing sofiadate.com\n",
      "Error writing sofiadate.com to Redshift: 'Engine' object has no attribute 'cursor'\n",
      "Processing loveforheart.com\n",
      "Error writing loveforheart.com to Redshift: 'Engine' object has no attribute 'cursor'\n"
     ]
    }
   ],
   "source": []
  },
  {
   "cell_type": "code",
   "execution_count": null,
   "id": "15493dba-4e5e-4bf4-af34-29b8662458c5",
   "metadata": {},
   "outputs": [],
   "source": []
  },
  {
   "cell_type": "code",
   "execution_count": null,
   "id": "6f275f89-fe3e-48e8-a02c-dd6d8539a1aa",
   "metadata": {},
   "outputs": [],
   "source": []
  },
  {
   "cell_type": "code",
   "execution_count": null,
   "id": "22dcfcb3-6ec6-490b-957f-fb053c9cc92d",
   "metadata": {},
   "outputs": [],
   "source": []
  },
  {
   "cell_type": "code",
   "execution_count": 9,
   "id": "aff7095a-6ed7-47ca-a90f-a9146f8a3a18",
   "metadata": {},
   "outputs": [],
   "source": []
  },
  {
   "cell_type": "code",
   "execution_count": 10,
   "id": "f3d8df4d-d366-4a26-a660-8faf8d4d9f1c",
   "metadata": {},
   "outputs": [],
   "source": []
  },
  {
   "cell_type": "code",
   "execution_count": 11,
   "id": "bb2f5a8d-509b-4bab-a381-fe20d5a645d0",
   "metadata": {},
   "outputs": [],
   "source": []
  },
  {
   "cell_type": "code",
   "execution_count": null,
   "id": "8aeeb6bf-94cc-40b9-aed7-d03202f4685f",
   "metadata": {},
   "outputs": [],
   "source": []
  },
  {
   "cell_type": "code",
   "execution_count": null,
   "id": "ffbe333d-7852-41f3-8bff-82e38d384f31",
   "metadata": {},
   "outputs": [],
   "source": []
  },
  {
   "cell_type": "code",
   "execution_count": null,
   "id": "a2b3576c-5789-4fcd-bcf7-e400a9c0becd",
   "metadata": {},
   "outputs": [],
   "source": []
  },
  {
   "cell_type": "code",
   "execution_count": null,
   "id": "66f7dd95-98ff-4dec-b337-48209c2dfcf2",
   "metadata": {},
   "outputs": [],
   "source": []
  },
  {
   "cell_type": "code",
   "execution_count": null,
   "id": "1453efa7-bd9a-43db-9341-faac41bb868b",
   "metadata": {},
   "outputs": [],
   "source": []
  },
  {
   "cell_type": "code",
   "execution_count": null,
   "id": "3d1c1cb9-c1d8-4e86-9dfb-208478e025f3",
   "metadata": {},
   "outputs": [],
   "source": []
  }
 ],
 "metadata": {
  "kernelspec": {
   "display_name": "Python 3 (ipykernel)",
   "language": "python",
   "name": "python3"
  },
  "language_info": {
   "codemirror_mode": {
    "name": "ipython",
    "version": 3
   },
   "file_extension": ".py",
   "mimetype": "text/x-python",
   "name": "python",
   "nbconvert_exporter": "python",
   "pygments_lexer": "ipython3",
   "version": "3.13.0"
  }
 },
 "nbformat": 4,
 "nbformat_minor": 5
}
